{
 "cells": [
  {
   "cell_type": "markdown",
   "id": "0bfbc1ac-8030-48bb-9006-4a8d9584b992",
   "metadata": {},
   "source": [
    "**Построение котировки BTC/USDT**"
   ]
  },
  {
   "cell_type": "markdown",
   "id": "4aa66a68-5c28-4e27-99e7-70c737be3cc9",
   "metadata": {},
   "source": [
    "Цель: Я хочу спрогнозировать котировку BTC/USDT на горизонте одной недели."
   ]
  },
  {
   "cell_type": "markdown",
   "id": "c303b0f8-0070-4e79-9ea6-b950b46ddb42",
   "metadata": {},
   "source": [
    "План действий:\n",
    "1) Получение данных со странички Binance, используя публичный API.\n",
    "2) Первичная обработка данных\n",
    "3) Аналитика полученных данных\n",
    "4) Дополнительный сбор данных\n",
    "5) Построение прогноза"
   ]
  },
  {
   "cell_type": "markdown",
   "id": "293cc4b3-6607-4551-8093-b08a9c206e92",
   "metadata": {},
   "source": [
    "**Шаг 1 - Получение данных со странички Binance**"
   ]
  },
  {
   "cell_type": "code",
   "execution_count": 88,
   "id": "385d1f41-3eac-41f5-bee0-b405a56bab24",
   "metadata": {},
   "outputs": [],
   "source": [
    "import pandas as pd\n",
    "import requests\n",
    "import json\n",
    "from datetime import * "
   ]
  },
  {
   "cell_type": "code",
   "execution_count": 223,
   "id": "51347a95-b052-492d-a8c0-4ba987dcce16",
   "metadata": {},
   "outputs": [],
   "source": [
    "def date_count(year, month, day):\n",
    "    dt = datetime(year, month, day).replace(tzinfo=timezone(timedelta(hours=0))) # задаю часовой пояс UTC 0\n",
    "    total_seconds = dt.timestamp() # Считаю секунды от 1970.01.01\n",
    "    return total_seconds"
   ]
  },
  {
   "cell_type": "code",
   "execution_count": 323,
   "id": "1550a474-e769-458d-9b7b-7f4e1f1f7e26",
   "metadata": {},
   "outputs": [],
   "source": [
    "binance_id = 1\n",
    "total_seconds = int(date_count(2025,1,1))\n",
    "interval = '5m'\n",
    "count = 5\n",
    "\n",
    "url = f'https://www.binance.com/bapi/composite/v1/public/promo/cmc/cryptocurrency/quotes/historical?id={binance_id}&time_start={total_seconds}&interval={interval}&count={count}'\n",
    "response = requests.get(url)\n",
    "data = response.json()"
   ]
  },
  {
   "cell_type": "code",
   "execution_count": 370,
   "id": "916cdbb7-cd96-4c67-b152-1030694161cc",
   "metadata": {},
   "outputs": [],
   "source": [
    "clean = data['data']['body']['data']['quotes'] # убираем ненужные ключи из словаря, оставляем информацию по динамике"
   ]
  },
  {
   "cell_type": "code",
   "execution_count": 374,
   "id": "df0e437d-23bd-4f7e-8c49-8fd26d6dacb2",
   "metadata": {},
   "outputs": [
    {
     "name": "stdout",
     "output_type": "stream",
     "text": [
      "[{'percent_change_1h': 0.197163682215, 'percent_change_24h': 0.940972656461, 'percent_change_7d': -5.159000153855, 'percent_change_30d': -3.885443364242, 'price': 93460.78668676078, 'volume_24h': 43685039703.48, 'market_cap': 1850890036142.4622, 'total_supply': 19803921, 'circulating_supply': 19803921, 'timestamp': '2025-01-01T00:05:00.000Z'}, {'percent_change_1h': -0.062391303212, 'percent_change_24h': 0.76476526583, 'percent_change_7d': -5.294919108981, 'percent_change_30d': -3.918018187941, 'price': 93391.98138844903, 'volume_24h': 43666916854.55, 'market_cap': 1849527421450.315, 'total_supply': 19803921, 'circulating_supply': 19803921, 'timestamp': '2025-01-01T00:10:00.000Z'}, {'percent_change_1h': -0.109774691999, 'percent_change_24h': 0.831562746465, 'percent_change_7d': -5.319928659211, 'percent_change_30d': -3.996079738966, 'price': 93418.74271643757, 'volume_24h': 43648191529.34, 'market_cap': 1850057400675.655, 'total_supply': 19803921, 'circulating_supply': 19803921, 'timestamp': '2025-01-01T00:15:00.000Z'}, {'percent_change_1h': 0.128348663269, 'percent_change_24h': 1.173046060717, 'percent_change_7d': -4.961170539941, 'percent_change_30d': -3.747776352927, 'price': 93607.59304385808, 'volume_24h': 43665397581.02, 'market_cap': 1853797377640.715, 'total_supply': 19803921, 'circulating_supply': 19803921, 'timestamp': '2025-01-01T00:20:00.000Z'}, {'percent_change_1h': 0.111628300969, 'percent_change_24h': 1.227874266482, 'percent_change_7d': -5.018681095284, 'percent_change_30d': -3.922293647581, 'price': 93559.13895416642, 'volume_24h': 43672164070.13, 'market_cap': 1852837796676.3345, 'total_supply': 19803921, 'circulating_supply': 19803921, 'timestamp': '2025-01-01T00:25:00.000Z'}]\n"
     ]
    }
   ],
   "source": [
    "y = [x['quote']['USD'] for x in clean ]\n",
    "print(y)"
   ]
  },
  {
   "cell_type": "code",
   "execution_count": 376,
   "id": "7d243466-8f92-45d0-9e1e-baf1048a95a6",
   "metadata": {},
   "outputs": [],
   "source": [
    "df = pd.DataFrame(y)\n",
    "df['name'] = 'Bitcoin'\n",
    "df['symbol'] = 'BTC'\n",
    "df['currency'] = 'USD'\n",
    "lst = ['name', 'symbol', 'currency', 'percent_change_1h', 'percent_change_24h', 'percent_change_7d',\n",
    "       'percent_change_30d', 'price', 'volume_24h', 'market_cap', 'total_supply', 'circulating_supply', 'timestamp']"
   ]
  },
  {
   "cell_type": "code",
   "execution_count": 378,
   "id": "0abd708b-6f5d-459f-9a95-8ef721fa27f3",
   "metadata": {},
   "outputs": [],
   "source": [
    " df = df[lst]"
   ]
  },
  {
   "cell_type": "code",
   "execution_count": 380,
   "id": "25548298-cd9b-42fe-a398-0a3feeff4a27",
   "metadata": {},
   "outputs": [
    {
     "data": {
      "text/html": [
       "<div>\n",
       "<style scoped>\n",
       "    .dataframe tbody tr th:only-of-type {\n",
       "        vertical-align: middle;\n",
       "    }\n",
       "\n",
       "    .dataframe tbody tr th {\n",
       "        vertical-align: top;\n",
       "    }\n",
       "\n",
       "    .dataframe thead th {\n",
       "        text-align: right;\n",
       "    }\n",
       "</style>\n",
       "<table border=\"1\" class=\"dataframe\">\n",
       "  <thead>\n",
       "    <tr style=\"text-align: right;\">\n",
       "      <th></th>\n",
       "      <th>name</th>\n",
       "      <th>symbol</th>\n",
       "      <th>currency</th>\n",
       "      <th>percent_change_1h</th>\n",
       "      <th>percent_change_24h</th>\n",
       "      <th>percent_change_7d</th>\n",
       "      <th>percent_change_30d</th>\n",
       "      <th>price</th>\n",
       "      <th>volume_24h</th>\n",
       "      <th>market_cap</th>\n",
       "      <th>total_supply</th>\n",
       "      <th>circulating_supply</th>\n",
       "      <th>timestamp</th>\n",
       "    </tr>\n",
       "  </thead>\n",
       "  <tbody>\n",
       "    <tr>\n",
       "      <th>0</th>\n",
       "      <td>Bitcoin</td>\n",
       "      <td>BTC</td>\n",
       "      <td>USD</td>\n",
       "      <td>0.197164</td>\n",
       "      <td>0.940973</td>\n",
       "      <td>-5.159000</td>\n",
       "      <td>-3.885443</td>\n",
       "      <td>93460.786687</td>\n",
       "      <td>4.368504e+10</td>\n",
       "      <td>1.850890e+12</td>\n",
       "      <td>19803921</td>\n",
       "      <td>19803921</td>\n",
       "      <td>2025-01-01T00:05:00.000Z</td>\n",
       "    </tr>\n",
       "    <tr>\n",
       "      <th>1</th>\n",
       "      <td>Bitcoin</td>\n",
       "      <td>BTC</td>\n",
       "      <td>USD</td>\n",
       "      <td>-0.062391</td>\n",
       "      <td>0.764765</td>\n",
       "      <td>-5.294919</td>\n",
       "      <td>-3.918018</td>\n",
       "      <td>93391.981388</td>\n",
       "      <td>4.366692e+10</td>\n",
       "      <td>1.849527e+12</td>\n",
       "      <td>19803921</td>\n",
       "      <td>19803921</td>\n",
       "      <td>2025-01-01T00:10:00.000Z</td>\n",
       "    </tr>\n",
       "    <tr>\n",
       "      <th>2</th>\n",
       "      <td>Bitcoin</td>\n",
       "      <td>BTC</td>\n",
       "      <td>USD</td>\n",
       "      <td>-0.109775</td>\n",
       "      <td>0.831563</td>\n",
       "      <td>-5.319929</td>\n",
       "      <td>-3.996080</td>\n",
       "      <td>93418.742716</td>\n",
       "      <td>4.364819e+10</td>\n",
       "      <td>1.850057e+12</td>\n",
       "      <td>19803921</td>\n",
       "      <td>19803921</td>\n",
       "      <td>2025-01-01T00:15:00.000Z</td>\n",
       "    </tr>\n",
       "    <tr>\n",
       "      <th>3</th>\n",
       "      <td>Bitcoin</td>\n",
       "      <td>BTC</td>\n",
       "      <td>USD</td>\n",
       "      <td>0.128349</td>\n",
       "      <td>1.173046</td>\n",
       "      <td>-4.961171</td>\n",
       "      <td>-3.747776</td>\n",
       "      <td>93607.593044</td>\n",
       "      <td>4.366540e+10</td>\n",
       "      <td>1.853797e+12</td>\n",
       "      <td>19803921</td>\n",
       "      <td>19803921</td>\n",
       "      <td>2025-01-01T00:20:00.000Z</td>\n",
       "    </tr>\n",
       "    <tr>\n",
       "      <th>4</th>\n",
       "      <td>Bitcoin</td>\n",
       "      <td>BTC</td>\n",
       "      <td>USD</td>\n",
       "      <td>0.111628</td>\n",
       "      <td>1.227874</td>\n",
       "      <td>-5.018681</td>\n",
       "      <td>-3.922294</td>\n",
       "      <td>93559.138954</td>\n",
       "      <td>4.367216e+10</td>\n",
       "      <td>1.852838e+12</td>\n",
       "      <td>19803921</td>\n",
       "      <td>19803921</td>\n",
       "      <td>2025-01-01T00:25:00.000Z</td>\n",
       "    </tr>\n",
       "  </tbody>\n",
       "</table>\n",
       "</div>"
      ],
      "text/plain": [
       "      name symbol currency  percent_change_1h  percent_change_24h  \\\n",
       "0  Bitcoin    BTC      USD           0.197164            0.940973   \n",
       "1  Bitcoin    BTC      USD          -0.062391            0.764765   \n",
       "2  Bitcoin    BTC      USD          -0.109775            0.831563   \n",
       "3  Bitcoin    BTC      USD           0.128349            1.173046   \n",
       "4  Bitcoin    BTC      USD           0.111628            1.227874   \n",
       "\n",
       "   percent_change_7d  percent_change_30d         price    volume_24h  \\\n",
       "0          -5.159000           -3.885443  93460.786687  4.368504e+10   \n",
       "1          -5.294919           -3.918018  93391.981388  4.366692e+10   \n",
       "2          -5.319929           -3.996080  93418.742716  4.364819e+10   \n",
       "3          -4.961171           -3.747776  93607.593044  4.366540e+10   \n",
       "4          -5.018681           -3.922294  93559.138954  4.367216e+10   \n",
       "\n",
       "     market_cap  total_supply  circulating_supply                 timestamp  \n",
       "0  1.850890e+12      19803921            19803921  2025-01-01T00:05:00.000Z  \n",
       "1  1.849527e+12      19803921            19803921  2025-01-01T00:10:00.000Z  \n",
       "2  1.850057e+12      19803921            19803921  2025-01-01T00:15:00.000Z  \n",
       "3  1.853797e+12      19803921            19803921  2025-01-01T00:20:00.000Z  \n",
       "4  1.852838e+12      19803921            19803921  2025-01-01T00:25:00.000Z  "
      ]
     },
     "execution_count": 380,
     "metadata": {},
     "output_type": "execute_result"
    }
   ],
   "source": [
    "df"
   ]
  },
  {
   "cell_type": "code",
   "execution_count": null,
   "id": "c9e3c4c1-05cb-46c7-b949-6139449cab8a",
   "metadata": {},
   "outputs": [],
   "source": []
  },
  {
   "cell_type": "code",
   "execution_count": null,
   "id": "dc965dcb-30bf-4438-a0cc-7035b390bab0",
   "metadata": {},
   "outputs": [],
   "source": []
  }
 ],
 "metadata": {
  "kernelspec": {
   "display_name": "Python [conda env:base] *",
   "language": "python",
   "name": "conda-base-py"
  },
  "language_info": {
   "codemirror_mode": {
    "name": "ipython",
    "version": 3
   },
   "file_extension": ".py",
   "mimetype": "text/x-python",
   "name": "python",
   "nbconvert_exporter": "python",
   "pygments_lexer": "ipython3",
   "version": "3.12.7"
  }
 },
 "nbformat": 4,
 "nbformat_minor": 5
}
